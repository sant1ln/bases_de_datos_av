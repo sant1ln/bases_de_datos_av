{
 "cells": [
  {
   "cell_type": "code",
   "execution_count": 6,
   "metadata": {},
   "outputs": [
    {
     "name": "stdout",
     "output_type": "stream",
     "text": [
      "    id_vendedor            Vendedor\n",
      "0             1   Directo en Tienda\n",
      "1             2     Publicidad Face\n",
      "2             3    Publicidad Insta\n",
      "3             4  Publicidad Youtube\n",
      "4             5         melissaguin\n",
      "5             6    aplinewithvyycan\n",
      "6             7        anamontero22\n",
      "7             8         karlagvzcia\n",
      "8             9            epiclava\n",
      "9            10  marisaamanzanolife\n",
      "10           11         andreaheraz\n",
      "11           12       marugshbolena\n",
      "12           13     celestezohmoran\n",
      "13           14         Nataliansfa\n",
      "14           15          marifer.bb\n",
      "15           16     marianaguayoela\n",
      "16           17             jldom89\n",
      "17           18       nathaliansrro\n",
      "18           19        geogluisovec\n",
      "19           20          mariana.vn\n",
      "20           21       lescarpinteli\n",
      "21           22      aleixploreuria\n",
      "22           23         luckarovtes\n",
      "23           24     greciasotelovvv\n",
      "24           25     reginaacosta314\n",
      "25           26        auroramadrid\n",
      "26           27  daniexploradorarod\n",
      "27           28       abrahamojicar\n",
      "28           29      anellaholldoll\n",
      "29           30          anacsimdao\n",
      "30           31    carleycmountains\n",
      "31           32          jimellanna\n",
      "32           33         moreofmarrr\n",
      "33           34          rbkdccasti\n",
      "34           35    roberto_herlom88\n",
      "35           36         dudabrnrons\n",
      "36           37         adamgoneron\n",
      "37           38          SanayNutri\n",
      "38           39    miriamvillalmals\n",
      "39           40        ximeguajardd\n",
      "40           41        netabyeserna\n",
      "41           42   nicole.izuristilo\n",
      "42           43          gypseajain\n",
      "43           44       marianavazeta\n"
     ]
    }
   ],
   "source": [
    "import pandas as pd\n",
    "\n",
    "## Load file in dataframe | Cargar archivo en dataframe\n",
    "file_location = './Ventas_Web.xlsx'\n",
    "dataframe = pd.read_excel('./Ventas_Web.xlsx')\n",
    "##print(dataframe)\n",
    "\n",
    "## Get only 'vendedor' data and remove duplicates / Obtener vendedores y borrar duplicados\n",
    "dataframe_vendedor = dataframe[['Vendedor']]\n",
    "dataframe_vendedor = dataframe_vendedor.drop_duplicates()\n",
    "##print(dataframe_vendedor)\n",
    "\n",
    "##Reset index \n",
    "dataframe_vendedor = dataframe_vendedor.reset_index(drop=True)\n",
    "##print(dataframe_vendedor)\n",
    "\n",
    "##Add index as table value / Añadir indice como campo de la tabla\n",
    "dataframe_vendedor.reset_index(level=0, inplace=True)\n",
    "##print(dataframe_vendedor)\n",
    "\n",
    "##Increment index / Aumentar en uno el indice\n",
    "dataframe_vendedor['index'] += 1\n",
    "##print(dataframe_vendedor)\n",
    "\n",
    "##Rename columname\n",
    "dataframe_vendedor = dataframe_vendedor.rename(columns={'index':'id_producto'})\n",
    "print(dataframe_vendedor)"
   ]
  }
 ],
 "metadata": {
  "kernelspec": {
   "display_name": "Python 3",
   "language": "python",
   "name": "python3"
  },
  "language_info": {
   "codemirror_mode": {
    "name": "ipython",
    "version": 3
   },
   "file_extension": ".py",
   "mimetype": "text/x-python",
   "name": "python",
   "nbconvert_exporter": "python",
   "pygments_lexer": "ipython3",
   "version": "3.10.6"
  },
  "orig_nbformat": 4,
  "vscode": {
   "interpreter": {
    "hash": "e7370f93d1d0cde622a1f8e1c04877d8463912d04d973331ad4851f04de6915a"
   }
  }
 },
 "nbformat": 4,
 "nbformat_minor": 2
}
