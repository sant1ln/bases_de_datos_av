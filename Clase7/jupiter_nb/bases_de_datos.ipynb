{
 "cells": [
  {
   "cell_type": "code",
   "execution_count": 2,
   "metadata": {},
   "outputs": [
    {
     "ename": "",
     "evalue": "",
     "output_type": "error",
     "traceback": [
      "\u001b[1;31mCanceled future for execute_request message before replies were done"
     ]
    },
    {
     "ename": "",
     "evalue": "",
     "output_type": "error",
     "traceback": [
      "\u001b[1;31mThe Kernel crashed while executing code in the the current cell or a previous cell. Please review the code in the cell(s) to identify a possible cause of the failure. Click <a href='https://aka.ms/vscodeJupyterKernelCrash'>here</a> for more info. View Jupyter <a href='command:jupyter.viewOutput'>log</a> for further details."
     ]
    }
   ],
   "source": [
    "\n",
    "#libreria panda\n",
    "#comentarios son con #\n",
    "\n",
    "#imprimir libreria\n",
    "import pandas as pd\n",
    "\n",
    "#data frame\n",
    "df = pd.read_excel(\"../Ventas_Web.xlsx\")\n",
    "#mostrar los primero 5 registros\n",
    "df.head()\n",
    "\n",
    "#crear un data frame - para vendedores\n",
    "df_vendedor = df[[\"Vendedor\"]]\n",
    "#eliminar los duplicados de la tabla\n",
    "df_vendedor = df_vendedor.drop_duplicates()\n",
    "#resetear indice\n",
    "df_vendedor = df_vendedor.reset_index(drop=True)\n",
    "#agregar el indice a un campo de la tabla\n",
    "df_vendedor.reset_index(level=0, inplace=True)\n",
    "df_vendedor['index']+=1\n",
    "#que la columna que se llama index se llame id_vendedor\n",
    "df_vendedor= df_vendedor.rename(columns={'index':'id_vendedor'})\n",
    "df_vendedor\n",
    "\n",
    "#crear un data frame - para vendedores\n",
    "df_producto = df[['Producto', 'Categoría']]\n",
    "#eliminar los duplicados de la tabla\n",
    "df_producto = df_producto.drop_duplicates()\n",
    "#resetear indice\n",
    "df_producto = df_producto.reset_index(drop=True)\n",
    "#agregar el indice a un campo de la tabla\n",
    "df_producto.reset_index(level=0, inplace=True)\n",
    "df_producto['index']+=1\n",
    "#que la columna que se llama index se llame id_vendedor\n",
    "df_producto= df_producto.rename(columns={'index':'id_producto'})\n",
    "df_producto\n",
    "\n",
    "#crear un data frame - para vendedores\n",
    "df_plataforma = df[[\"Plataforma\"]]\n",
    "#eliminar los duplicados de la tabla\n",
    "df_plataforma = df_plataforma.drop_duplicates()\n",
    "#resetear indice\n",
    "df_plataforma = df_plataforma.reset_index(drop=True)\n",
    "#agregar el indice a un campo de la tabla\n",
    "df_plataforma.reset_index(level=0, inplace=True)\n",
    "df_plataforma['index']+=1\n",
    "#que la columna que se llama index se llame id_vendedor\n",
    "df_plataforma= df_plataforma.rename(columns={'index':'id_plataforma'})\n",
    "df_plataforma\n",
    "\n",
    "df_ventas=df\n",
    "df_ventas\n",
    "\n",
    "df.head()\n",
    "\n",
    "#print(dataframe)\n",
    "\n",
    "##Este archivo esta pendiente para su arreglo, ya que todos los datos estan en archivos diferentes\n",
    "\n",
    "## Get only 'vendedor' data and remove duplicates / Obtener vendedores y borrar duplicados\n",
    "df_vendedor = df[[\"Vendedor\"]]\n",
    "df_ventas = pd.merge(df_ventas, df_vendedor, on='Vendedor', how='right')\n",
    "df_ventas = df_ventas[['Orden','Fecha']]\n",
    "print(df_ventas)"
   ]
  }
 ],
 "metadata": {
  "kernelspec": {
   "display_name": "Python 3",
   "language": "python",
   "name": "python3"
  },
  "language_info": {
   "codemirror_mode": {
    "name": "ipython",
    "version": 3
   },
   "file_extension": ".py",
   "mimetype": "text/x-python",
   "name": "python",
   "nbconvert_exporter": "python",
   "pygments_lexer": "ipython3",
   "version": "3.10.6"
  },
  "orig_nbformat": 4
 },
 "nbformat": 4,
 "nbformat_minor": 2
}
