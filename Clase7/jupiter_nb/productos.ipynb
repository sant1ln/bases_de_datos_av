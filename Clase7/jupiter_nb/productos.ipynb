{
 "cells": [
  {
   "cell_type": "code",
   "execution_count": 2,
   "metadata": {},
   "outputs": [
    {
     "name": "stdout",
     "output_type": "stream",
     "text": [
      "     id_producto                         Producto              Categoría\n",
      "0              1  Pants de Entrenamiento Reactivo             Pantalones\n",
      "1              2            Sudadera sin Costuras  Sudaderas y chamarras\n",
      "2              3                   Leggings Ombre               Leggings\n",
      "3              4           Bra Vital sin costuras          Bra deportivo\n",
      "4              5                 Camiseta Heather              Camisetas\n",
      "..           ...                              ...                    ...\n",
      "99           100                   Sudadera Crest  Sudaderas y chamarras\n",
      "100          101         Camiseta sin Mangas Onyx               Interior\n",
      "101          102                 Camiseta Fitness              Camisetas\n",
      "102          103              Sudadera sin mangas  Sudaderas y chamarras\n",
      "103          104                 Sudadera Fitness  Sudaderas y chamarras\n",
      "\n",
      "[104 rows x 3 columns]\n"
     ]
    }
   ],
   "source": [
    "import pandas as pd\n",
    "\n",
    "## Load file in dataframe | Cargar archivo en dataframe\n",
    "file_location = './Ventas_Web.xlsx'\n",
    "dataframe = pd.read_excel('../Ventas_Web.xlsx')\n",
    "##print(dataframe)\n",
    "\n",
    "## Get only 'producto' data and remove duplicates / Obtener productoes y borrar duplicados\n",
    "dataframe_producto = dataframe[['Producto', 'Categoría']]\n",
    "dataframe_producto = dataframe_producto.drop_duplicates()\n",
    "##print(dataframe_producto)\n",
    "\n",
    "##Reset index \n",
    "dataframe_producto = dataframe_producto.reset_index(drop=True)\n",
    "##print(dataframe_producto)\n",
    "\n",
    "##Add index as table value / Añadir indice como campo de la tabla\n",
    "dataframe_producto.reset_index(level=0, inplace=True)\n",
    "##print(dataframe_producto)\n",
    "\n",
    "##Increment index / Aumentar en uno el indice\n",
    "dataframe_producto['index'] += 1\n",
    "##print(dataframe_producto)\n",
    "\n",
    "##Rename columname\n",
    "dataframe_producto = dataframe_producto.rename(columns={'index':'id_producto'})\n",
    "print(dataframe_producto)"
   ]
  }
 ],
 "metadata": {
  "kernelspec": {
   "display_name": "Python 3",
   "language": "python",
   "name": "python3"
  },
  "language_info": {
   "codemirror_mode": {
    "name": "ipython",
    "version": 3
   },
   "file_extension": ".py",
   "mimetype": "text/x-python",
   "name": "python",
   "nbconvert_exporter": "python",
   "pygments_lexer": "ipython3",
   "version": "3.10.6"
  },
  "orig_nbformat": 4,
  "vscode": {
   "interpreter": {
    "hash": "e7370f93d1d0cde622a1f8e1c04877d8463912d04d973331ad4851f04de6915a"
   }
  }
 },
 "nbformat": 4,
 "nbformat_minor": 2
}
