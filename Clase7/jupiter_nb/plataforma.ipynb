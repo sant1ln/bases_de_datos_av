{
 "cells": [
  {
   "cell_type": "code",
   "execution_count": 5,
   "metadata": {},
   "outputs": [
    {
     "name": "stdout",
     "output_type": "stream",
     "text": [
      "   id_producto Plataforma\n",
      "0            1    Website\n",
      "1            2   Facebook\n",
      "2            3  Instagram\n",
      "3            4    Youtube\n"
     ]
    }
   ],
   "source": [
    "import pandas as pd\n",
    "\n",
    "## Load file in dataframe | Cargar archivo en dataframe\n",
    "file_location = './Ventas_Web.xlsx'\n",
    "dataframe = pd.read_excel('../Ventas_Web.xlsx')\n",
    "##print(dataframe)\n",
    "\n",
    "## Get only 'plataforma' data and remove duplicates / Obtener plataformaes y borrar duplicados\n",
    "dataframe_plataforma = dataframe[['Plataforma']]\n",
    "dataframe_plataforma = dataframe_plataforma.drop_duplicates()\n",
    "##print(dataframe_plataforma)\n",
    "\n",
    "##Reset index \n",
    "dataframe_plataforma = dataframe_plataforma.reset_index(drop=True)\n",
    "##print(dataframe_plataforma)\n",
    "\n",
    "##Add index as table value / Añadir indice como campo de la tabla\n",
    "dataframe_plataforma.reset_index(level=0, inplace=True)\n",
    "##print(dataframe_plataforma)\n",
    "\n",
    "##Increment index / Aumentar en uno el indice\n",
    "dataframe_plataforma['index'] += 1\n",
    "##print(dataframe_plataforma)\n",
    "\n",
    "##Rename columname\n",
    "dataframe_plataforma = dataframe_plataforma.rename(columns={'index':'id_producto'})\n",
    "##dataframe_plataforma.style.hide_index()\n",
    "print(dataframe_plataforma)"
   ]
  }
 ],
 "metadata": {
  "kernelspec": {
   "display_name": "Python 3",
   "language": "python",
   "name": "python3"
  },
  "language_info": {
   "codemirror_mode": {
    "name": "ipython",
    "version": 3
   },
   "file_extension": ".py",
   "mimetype": "text/x-python",
   "name": "python",
   "nbconvert_exporter": "python",
   "pygments_lexer": "ipython3",
   "version": "3.10.6"
  },
  "orig_nbformat": 4,
  "vscode": {
   "interpreter": {
    "hash": "e7370f93d1d0cde622a1f8e1c04877d8463912d04d973331ad4851f04de6915a"
   }
  }
 },
 "nbformat": 4,
 "nbformat_minor": 2
}
